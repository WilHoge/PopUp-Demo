{
 "cells": [
  {
   "cell_type": "code",
   "execution_count": null,
   "id": "f2f3b19e-2c6c-4f51-ae97-b73dc0a52296",
   "metadata": {
    "id": "399a7c57-bc01-459f-8a51-598ebed72f98",
    "tags": []
   },
   "outputs": [],
   "source": [
    "__version__"
   ]
  }
 ],
 "metadata": {
  "kernelspec": {
   "display_name": "Python 3.10",
   "language": "python",
   "name": "python3"
  },
  "language_info": {
   "codemirror_mode": {
    "name": "ipython",
    "version": 3
   },
   "file_extension": ".py",
   "mimetype": "text/x-python",
   "name": "python",
   "nbconvert_exporter": "python",
   "pygments_lexer": "ipython3",
   "version": "3.10.6"
  }
 },
 "nbformat": 4,
 "nbformat_minor": 5
}
