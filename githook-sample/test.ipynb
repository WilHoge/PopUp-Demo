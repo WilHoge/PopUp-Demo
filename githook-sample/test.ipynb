{
 "cells": [
  {
   "cell_type": "code",
   "execution_count": 1,
   "id": "f2f3b19e-2c6c-4f51-ae97-b73dc0a52296",
   "metadata": {
    "id": "399a7c57-bc01-459f-8a51-598ebed72f98",
    "tags": []
   },
   "outputs": [
    {
     "name": "stdout",
     "output_type": "stream",
     "text": [
      "3.10.6 (main, Oct 24 2022, 16:07:47) [GCC 11.2.0]\n"
     ]
    }
   ],
   "source": [
    "import sys\n",
    "print (sys.version)"
   ]
  },
  {
   "cell_type": "code",
   "execution_count": 2,
   "id": "fc31ee92-972d-4bdc-b1d9-53ed6213316f",
   "metadata": {
    "id": "fc31ee92-972d-4bdc-b1d9-53ed6213316f",
    "tags": []
   },
   "outputs": [
    {
     "name": "stdout",
     "output_type": "stream",
     "text": [
      "output test\n"
     ]
    }
   ],
   "source": [
    "print(\"output test\")"
   ]
  },
  {
   "cell_type": "code",
   "execution_count": null,
   "id": "e21e4d1d-7346-47e9-aa83-b66e2a35a55f",
   "metadata": {
    "id": "e21e4d1d-7346-47e9-aa83-b66e2a35a55f"
   },
   "outputs": [],
   "source": []
  }
 ],
 "metadata": {
  "kernelspec": {
   "display_name": "Python 3.10",
   "language": "python",
   "name": "python3"
  },
  "language_info": {
   "codemirror_mode": {
    "name": "ipython",
    "version": 3
   },
   "file_extension": ".py",
   "mimetype": "text/x-python",
   "name": "python",
   "nbconvert_exporter": "python",
   "pygments_lexer": "ipython3",
   "version": "3.10.6"
  },
  "vscode": {
   "interpreter": {
    "hash": "5c7b89af1651d0b8571dde13640ecdccf7d5a6204171d6ab33e7c296e100e08a"
   }
  }
 },
 "nbformat": 4,
 "nbformat_minor": 5
}
