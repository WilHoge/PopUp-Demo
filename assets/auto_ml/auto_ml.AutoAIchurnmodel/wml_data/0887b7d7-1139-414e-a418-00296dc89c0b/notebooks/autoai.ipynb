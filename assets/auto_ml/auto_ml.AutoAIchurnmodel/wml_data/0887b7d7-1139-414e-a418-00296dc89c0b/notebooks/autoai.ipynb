{
  "cells": [
    {
      "cell_type": "markdown",
      "metadata": {},
      "source": [
        "![image](https://github.com/IBM/watson-machine-learning-samples/raw/master/cloud/notebooks/headers/AutoAI-Banner_Experiment-Notebook.png)\n",
        "# Experiment Notebook - AutoAI Notebook v1.16.9\n",
        "\n",
        "\n",
        "This notebook contains the steps and code to demonstrate support of AutoAI experiments in the Watson Machine Learning service. It introduces Python API commands for data retrieval, training experiments, persisting pipelines, testing pipelines, refining pipelines, and scoring the resulting model.\n",
        "\n",
        "**Note:** Notebook code generated using AutoAI will execute successfully. If code is modified or reordered, there is no guarantee it will successfully execute. For details, see: <a href=\"https://dataplatform.cloud.ibm.com/docs/content/wsj/analyze-data/autoai-notebook.html\">Saving an Auto AI experiment as a notebook</a>\n"
      ]
    },
    {
      "cell_type": "markdown",
      "metadata": {},
      "source": [
        "Some familiarity with Python is helpful. This notebook uses Python 3.10 and the `ibm_watson_machine_learning` package.\n",
        "\n",
        "\n",
        "## Notebook goals\n",
        "\n",
        "The learning goals of this notebook are:\n",
        "-  Defining an AutoAI experiment\n",
        "-  Training AutoAI models \n",
        "-  Comparing trained models\n",
        "-  Deploying the model as a web service\n",
        "-  Scoring the model to generate predictions\n",
        "\n",
        "\n",
        "\n",
        "## Contents\n",
        "\n",
        "This notebook contains the following parts:\n",
        "\n",
        "**[Setup](#setup)**<br>\n",
        "&nbsp;&nbsp;[Package installation](#install)<br>\n",
        "&nbsp;&nbsp;[Watson Machine Learning connection](#connection)<br>\n",
        "**[Experiment configuration](#configuration)**<br>\n",
        "&nbsp;&nbsp;[Experiment metadata](#metadata)<br>\n",
        "**[Working with completed AutoAI experiment](#work)**<br>\n",
        "&nbsp;&nbsp;[Get fitted AutoAI optimizer](#get)<br>\n",
        "&nbsp;&nbsp;[Pipelines comparison](#comparison)<br>\n",
        "&nbsp;&nbsp;[Get pipeline as a scikit-learn pipeline model](#get_pipeline)<br>\n",
        "&nbsp;&nbsp;[Inspect pipeline](#inspect_pipeline)<br>\n",
        "&nbsp;&nbsp;&nbsp;&nbsp;[Visualize pipeline model](#visualize)<br>\n",
        "&nbsp;&nbsp;&nbsp;&nbsp;[Preview pipeline model as a Python code](#preview)<br>\n",
        "**[Deploy and Score](#scoring)**<br>\n",
        "&nbsp;&nbsp;[Working with spaces](#working_spaces)<br>\n",
        "**[Running AutoAI experiment with Python API](#run)**<br>\n",
        "**[Clean up](#cleanup)**<br>\n",
        "**[Next steps](#next_steps)**<br>\n",
        "**[Copyrights](#copyrights)**"
      ]
    },
    {
      "cell_type": "markdown",
      "metadata": {},
      "source": [
        "<a id=\"setup\"></a>\n",
        "# Setup"
      ]
    },
    {
      "cell_type": "markdown",
      "metadata": {},
      "source": [
        "<a id=\"install\"></a>\n",
        "## Package installation\n",
        "Before you use the sample code in this notebook, install the following packages:\n",
        " - ibm-watson-machine-learning,\n",
        " - autoai-libs,\n",
        " - lale,\n",
        " - scikit-learn,\n",
        " - xgboost,\n",
        " - lightgbm,\n",
        " - snapml\n"
      ]
    },
    {
      "cell_type": "code",
      "execution_count": null,
      "metadata": {
        "pycharm": {
          "name": "#%%\n"
        }
      },
      "outputs": [],
      "source": [
        "!pip install ibm-watson-machine-learning | tail -n 1\n",
        "!pip install autoai-libs==1.14.9 | tail -n 1\n",
        "!pip install 'lale>=0.7,<0.8' | tail -n 1\n",
        "!pip install scikit-learn==1.1.1 | tail -n 1\n",
        "!pip install xgboost==1.6.2 | tail -n 1\n",
        "!pip install lightgbm==3.3.2 | tail -n 1\n",
        "!pip install 'snapml==1.8.12' | tail -n 1"
      ]
    },
    {
      "cell_type": "markdown",
      "metadata": {},
      "source": [
        "<a id=\"configuration\"></a>\n",
        "# Experiment configuration"
      ]
    },
    {
      "cell_type": "markdown",
      "metadata": {
        "pycharm": {
          "name": "#%% md\n"
        }
      },
      "source": [
        "<a id=\"metadata\"></a>\n",
        "## Experiment metadata\n",
        "This cell defines the metadata for the experiment, including: training_data_references, training_result_reference, experiment_metadata."
      ]
    },
    {
      "cell_type": "code",
      "execution_count": null,
      "metadata": {
        "pycharm": {
          "name": "#%%\n"
        }
      },
      "outputs": [],
      "source": [
        "from ibm_watson_machine_learning.helpers import DataConnection\n",
        "from ibm_watson_machine_learning.helpers import FSLocation\n",
        "\ntraining_data_references = [\n",
        "    DataConnection(\n",
        "        data_asset_id='data_asset.COSCHURNcsv'\n",
        "    ),\n",
        "]\n",
        "training_result_reference = DataConnection(\n",
        "    location=FSLocation(\n",
        "        path='/projects/83a5f783-8df2-4997-ba4a-6cd91dc182c7/assets/auto_ml/auto_ml.AutoAIchurnmodel/wml_data/0887b7d7-1139-414e-a418-00296dc89c0b/data/automl'\n",
        "    )\n",
        ")"
      ]
    },
    {
      "cell_type": "code",
      "execution_count": null,
      "metadata": {
        "pycharm": {
          "name": "#%%\n"
        }
      },
      "outputs": [],
      "source": [
        "experiment_metadata = dict(",
        "\n    prediction_type='binary'",
        ",\n    prediction_column='CHURN'",
        ",\n    holdout_size=0.48",
        ",\n    scoring='f1'",
        ",\n    csv_separator=','",
        ",\n    random_state=33",
        ",\n    max_number_of_estimators=1",
        ",\n    training_data_references=training_data_references",
        ",\n    training_result_reference=training_result_reference",
        ",\n    project_id='83a5f783-8df2-4997-ba4a-6cd91dc182c7'",
        ",\n    train_sample_columns_index_list=[5, 6, 7, 8, 9, 10, 11, 12, 13, 14, 15, 16, 17, 18, 19, 20, 21, 22, 23, 24, 25, 26, 27, 28, 29, 30, 31, 32, 33, 34, 35, 36, 37, 38, 39, 40, 41, 42, 43, 44, 45, 46, 47, 48, 49, 50, 51, 52, 53, 54, 55]",
        ",\n    positive_label='1.00'",
        ",\n    drop_duplicates=True",
        ",\n    include_batched_ensemble_estimators=['BatchedTreeEnsembleClassifier(RandomForestClassifier)', 'BatchedTreeEnsembleClassifier(ExtraTreesClassifier)', 'BatchedTreeEnsembleClassifier(XGBClassifier)', 'BatchedTreeEnsembleClassifier(LGBMClassifier)', 'BatchedTreeEnsembleClassifier(SnapRandomForestClassifier)', 'BatchedTreeEnsembleClassifier(SnapBoostingMachineClassifier)']",
        "\n)"
      ]
    },
    {
      "cell_type": "markdown",
      "metadata": {},
      "source": [
        "<a id=\"connection\"></a>\n",
        "## Watson Machine Learning connection\n",
        "\n",
        "This cell defines the credentials required to work with the Watson Machine Learning service.\n",
        "\n",
        "**Action**: You need to pass yours Cloud Pak for Data instance home url.   \n",
        "**Note**: If you want to run the notebook outside of the Watson Studio please provide Watson Machine Learning credentials: [Documentation](http://ibm-wml-api-pyclient.mybluemix.net/#id6)\n",
        "```\n",
        "wml_credentials = {  \n",
        "    \"instance_id\": \"openshift\",  \n",
        "    \"token\": \"\",  \n",
        "    \"url\": \"\",  \n",
        "    \"version\": \"4.6\"  \n",
        "}\n",
        "```"
      ]
    },
    {
      "cell_type": "code",
      "execution_count": null,
      "metadata": {
        "pycharm": {
          "name": "#%%\n"
        }
      },
      "outputs": [],
      "source": [
        "import os\n",
        "\n",
        "wml_credentials = {\n",
        "    \"instance_id\": \"openshift\",\n",
        "    \"url\": os.environ.get(\"RUNTIME_ENV_APSX_URL\"),\n",
        "    \"version\": \"4.6\"\n",
        "}"
      ]
    },
    {
      "cell_type": "markdown",
      "metadata": {},
      "source": [
        "<a id=\"work\"></a>\n",
        "\n",
        "\n",
        "# Working with the completed AutoAI experiment\n",
        "\n",
        "This cell imports the pipelines generated for the experiment. The best pipeline will be saved as a model."
      ]
    },
    {
      "cell_type": "markdown",
      "metadata": {},
      "source": [
        "<a id=\"get\"></a>\n",
        "\n",
        "\n",
        "## Get fitted AutoAI optimizer"
      ]
    },
    {
      "cell_type": "code",
      "execution_count": null,
      "metadata": {
        "pycharm": {
          "name": "#%%\n"
        }
      },
      "outputs": [],
      "source": [
        "from ibm_watson_machine_learning.experiment import AutoAI\n",
        "\n",
        "pipeline_optimizer = AutoAI(wml_credentials",
        ", project_id=experiment_metadata['project_id']",
        ").runs.get_optimizer(metadata=experiment_metadata)"
      ]
    },
    {
      "cell_type": "markdown",
      "metadata": {},
      "source": [
        "Use `get_params()` to retrieve configuration parameters."
      ]
    },
    {
      "cell_type": "code",
      "execution_count": null,
      "metadata": {
        "pycharm": {
          "name": "#%%\n"
        }
      },
      "outputs": [],
      "source": [
        "pipeline_optimizer.get_params()"
      ]
    },
    {
      "cell_type": "markdown",
      "metadata": {
        "pycharm": {
          "name": "#%% md\n"
        }
      },
      "source": [
        "<a id=\"comparison\"></a>\n",
        "## Pipelines comparison\n",
        "\n",
        "Use the `summary()` method to list trained pipelines and evaluation metrics information in\n",
        "the form of a Pandas DataFrame. You can use the DataFrame to compare all discovered pipelines and select the one you like for further testing."
      ]
    },
    {
      "cell_type": "code",
      "execution_count": null,
      "metadata": {
        "pycharm": {
          "name": "#%%\n"
        }
      },
      "outputs": [],
      "source": [
        "summary = pipeline_optimizer.summary()\n",
        "best_pipeline_name = list(summary.index)[0]\n",
        "summary"
      ]
    },
    {
      "cell_type": "markdown",
      "metadata": {},
      "source": [
        "<a id=\"get_pipeline\"></a>\n",
        "### Get pipeline as a scikit-learn pipeline model\n",
        "\n",
        "After you compare the pipelines, download and save a scikit-learn pipeline model object from the\n",
        "AutoAI training job.\n",
        "\n",
        "**Tip:** To get a specific pipeline, pass the pipeline name in:\n",
        "```\n",
        "pipeline_optimizer.get_pipeline(pipeline_name=pipeline_name)\n",
        "```"
      ]
    },
    {
      "cell_type": "code",
      "execution_count": null,
      "metadata": {
        "pycharm": {
          "name": "#%%\n"
        }
      },
      "outputs": [],
      "source": [
        "pipeline_model = pipeline_optimizer.get_pipeline()"
      ]
    },
    {
      "cell_type": "markdown",
      "metadata": {},
      "source": [
        "Next, check the importance of features for selected pipeline."
      ]
    },
    {
      "cell_type": "code",
      "execution_count": null,
      "metadata": {
        "pycharm": {
          "name": "#%%\n"
        }
      },
      "outputs": [],
      "source": [
        "pipeline_optimizer.get_pipeline_details()['features_importance']"
      ]
    },
    {
      "cell_type": "markdown",
      "metadata": {},
      "source": [
        "**Tip:** If you want to check all the details of the model evaluation metrics, use:\n",
        "```\n",
        "pipeline_optimizer.get_pipeline_details()\n",
        "```"
      ]
    },
    {
      "cell_type": "markdown",
      "metadata": {
        "pycharm": {
          "name": "#%% md\n"
        }
      },
      "source": [
        "<a id=\"inspect_pipeline\"></a>\n",
        "## Inspect pipeline"
      ]
    },
    {
      "cell_type": "markdown",
      "metadata": {},
      "source": [
        "<a id=\"visualize\"></a>\n",
        "### Visualize pipeline model\n",
        "\n",
        "Preview pipeline model stages as a graph. Each node's name links to a detailed description of the stage.\n"
      ]
    },
    {
      "cell_type": "code",
      "execution_count": null,
      "metadata": {
        "pycharm": {
          "name": "#%%\n"
        }
      },
      "outputs": [],
      "source": [
        "pipeline_model.visualize()"
      ]
    },
    {
      "cell_type": "markdown",
      "metadata": {},
      "source": [
        "<a id=\"preview\"></a>\n",
        "### Preview pipeline model as a Python code\n",
        "In the next cell, you can preview the saved pipeline model as a Python code.  \n",
        "You can review the exact steps used to create the model.\n",
        "\n",
        "**Note:** If you want to get sklearn representation, add the following parameter to the `pretty_print` call: `astype='sklearn'`."
      ]
    },
    {
      "cell_type": "code",
      "execution_count": null,
      "metadata": {
        "pycharm": {
          "name": "#%%\n"
        }
      },
      "outputs": [],
      "source": [
        "pipeline_model.pretty_print(combinators=False, ipython_display=True)"
      ]
    },
    {
      "cell_type": "markdown",
      "metadata": {},
      "source": [
        "### Calling the `predict` method\n",
        "If you want to get a prediction by using the pipeline model object, call `pipeline_model.predict()`.\n",
        "\n",
        "**Note:** If you want to work with a pure sklearn model:\n",
        " - add the following parameter to the `get_pipeline` call: `astype='sklearn'`,\n",
        " - or `scikit_learn_pipeline = pipeline_model.export_to_sklearn_pipeline()`"
      ]
    },
    {
      "cell_type": "markdown",
      "metadata": {},
      "source": [
        "<a id=\"scoring\"></a>\n",
        "## Deploy and Score\n",
        "\n",
        "Due to the fact that promotion endpoint does not supports git based project, you need to export your GIT branch archive and import to the space in order to deploy models created in this project.  \n",
        "M",
        "o",
        "r",
        "e",
        " ",
        "c",
        "a",
        "n",
        " ",
        "b",
        "e",
        " ",
        "f",
        "o",
        "u",
        "n",
        "d",
        " ",
        "i",
        "n",
        " ",
        "t",
        "h",
        "i",
        "s",
        " ",
        "[",
        "O",
        "n",
        "l",
        "i",
        "n",
        "e",
        " ",
        "D",
        "o",
        "c",
        "u",
        "m",
        "e",
        "n",
        "t",
        "a",
        "t",
        "i",
        "o",
        "n",
        " ",
        "S",
        "e",
        "c",
        "t",
        "i",
        "o",
        "n",
        "]",
        "(",
        "h",
        "t",
        "t",
        "p",
        "s",
        ":",
        "/",
        "/",
        "d",
        "a",
        "t",
        "a",
        "p",
        "l",
        "a",
        "t",
        "f",
        "o",
        "r",
        "m",
        ".",
        "c",
        "l",
        "o",
        "u",
        "d",
        ".",
        "i",
        "b",
        "m",
        ".",
        "c",
        "o",
        "m",
        "/",
        "d",
        "o",
        "c",
        "s",
        "/",
        "c",
        "o",
        "n",
        "t",
        "e",
        "n",
        "t",
        "/",
        "w",
        "s",
        "j",
        "/",
        "a",
        "n",
        "a",
        "l",
        "y",
        "z",
        "e",
        "-",
        "d",
        "a",
        "t",
        "a",
        "/",
        "m",
        "l",
        "-",
        "s",
        "p",
        "a",
        "c",
        "e",
        "-",
        "p",
        "r",
        "o",
        "m",
        "o",
        "t",
        "e",
        "-",
        "a",
        "s",
        "s",
        "e",
        "t",
        "s",
        ".",
        "h",
        "t",
        "m",
        "l",
        "?",
        "c",
        "o",
        "n",
        "t",
        "e",
        "x",
        "t",
        "=",
        "c",
        "p",
        "d",
        "a",
        "a",
        "s",
        "&",
        "a",
        "u",
        "d",
        "i",
        "e",
        "n",
        "c",
        "e",
        "=",
        "w",
        "d",
        "p",
        ")",
        "."
      ]
    },
    {
      "cell_type": "markdown",
      "metadata": {},
      "source": [
        "<a id=\"run\"></a>\n",
        "\n",
        "## Running the AutoAI experiment with Python API"
      ]
    },
    {
      "cell_type": "markdown",
      "metadata": {},
      "source": [
        "If you want to run the AutoAI experiment using the Python API, follow these steps. The experiment settings were generated basing on parameters set in the AutoAI UI.\n"
      ]
    },
    {
      "cell_type": "markdown",
      "metadata": {
        "pycharm": {
          "name": "#%%\n"
        }
      },
      "source": [
        "```\n",
        "from ibm_watson_machine_learning.experiment import AutoAI\n",
        "\n",
        "experiment = AutoAI(wml_credentials",
        ", project_id=experiment_metadata['project_id']",
        ")\n",
        "```"
      ]
    },
    {
      "cell_type": "markdown",
      "metadata": {},
      "source": [
        "```\n",
        "OPTIMIZER_NAME = 'custom_name'\n",
        "```"
      ]
    },
    {
      "cell_type": "markdown",
      "metadata": {
        "pycharm": {
          "name": "#%% raw\n"
        }
      },
      "source": [
        "```\n",
        "from ibm_watson_machine_learning.helpers import DataConnection\n",
        "from ibm_watson_machine_learning.helpers import FSLocation\n",
        "\ntraining_data_references = [\n",
        "    DataConnection(\n",
        "        data_asset_id='data_asset.COSCHURNcsv'\n",
        "    ),\n",
        "]\n",
        "training_result_reference = DataConnection(\n",
        "    location=FSLocation(\n",
        "        path='/projects/83a5f783-8df2-4997-ba4a-6cd91dc182c7/assets/auto_ml/auto_ml.AutoAIchurnmodel/wml_data/0887b7d7-1139-414e-a418-00296dc89c0b/data/automl'\n",
        "    )\n",
        ")\n",
        "```"
      ]
    },
    {
      "cell_type": "markdown",
      "metadata": {},
      "source": [
        "The new pipeline optimizer will be created and training will be triggered."
      ]
    },
    {
      "cell_type": "markdown",
      "metadata": {
        "pycharm": {
          "name": "#%%raw\n"
        }
      },
      "source": [
        "```\npipeline_optimizer = experiment.optimizer(\n    name=OPTIMIZER_NAME,\n    prediction_type=experiment_metadata['prediction_type'],\n    prediction_column=experiment_metadata['prediction_column'],\n    scoring=experiment_metadata['scoring'],\n    holdout_size=experiment_metadata['holdout_size'],\n    csv_separator=experiment_metadata['csv_separator'],\n",
        "    positive_label=experiment_metadata['positive_label'],\n",
        "    drop_duplicates=experiment_metadata['drop_duplicates'],\n",
        "    include_batched_ensemble_estimators=experiment_metadata['include_batched_ensemble_estimators'],\n",
        "    train_sample_columns_index_list=experiment_metadata['train_sample_columns_index_list'],\n",
        ")\n",
        "```"
      ]
    },
    {
      "cell_type": "markdown",
      "metadata": {
        "pycharm": {
          "name": "#%% md\n"
        }
      },
      "source": [
        "```\n",
        "pipeline_optimizer.fit(\n",
        "    training_data_references=training_data_references,\n",
        "    training_results_reference=training_result_reference,\n",
        "    background_mode=False,\n",
        ")\n",
        "```"
      ]
    },
    {
      "cell_type": "markdown",
      "metadata": {},
      "source": [
        "\n",
        "<a id=\"next_steps\"></a>\n",
        "# Next steps\n",
        "You successfully completed this notebook!\n",
        "You learned how to use ibm-watson-machine-learning to run and explore AutoAI experiments.\n",
        "Check out the official [AutoAI site](https://www.ibm.com/support/producthub/icpdata/docs/content/SSQNUZ_latest/cpd/overview/relnotes-4.0.html) for more samples, tutorials, documentation, how-tos, and blog posts."
      ]
    },
    {
      "cell_type": "markdown",
      "metadata": {},
      "source": [
        "<a id=\"copyrights\"></a>\n",
        "### Copyrights\n",
        "\n",
        "Licensed Materials - Copyright \u00a9 2022 IBM. This notebook and its source code are released under the terms of the ILAN License.\n",
        "Use, duplication disclosure restricted by GSA ADP Schedule Contract with IBM Corp.\n",
        "\n",
        "**Note:** The auto-generated notebooks are subject to the International License Agreement for Non-Warranted Programs (or equivalent) and License Information document for Watson Studio Auto-generated Notebook (License Terms), such agreements located in the link below. Specifically, the Source Components and Sample Materials clause included in the License Information document for Watson Studio Auto-generated Notebook applies to the auto-generated notebooks.  \n",
        "\n",
        "By downloading, copying, accessing, or otherwise using the materials, you agree to the <a href=\"http://www14.software.ibm.com/cgi-bin/weblap/lap.pl?li_formnum=L-AMCU-BYC7LF\">License Terms</a>  \n",
        "\n",
        "___"
      ]
    }
  ],
  "metadata": {
    "kernelspec": {
      "display_name": "Python 3 (ipykernel)",
      "language": "python",
      "name": "python3"
    },
    "language_info": {
      "codemirror_mode": {
        "name": "ipython",
        "version": 3
      },
      "file_extension": ".py",
      "mimetype": "text/x-python",
      "name": "python",
      "nbconvert_exporter": "python",
      "pygments_lexer": "ipython3",
      "version": "3.9.7"
    },
    "pycharm": {
      "stem_cell": {
        "cell_type": "raw",
        "metadata": {
          "collapsed": false
        },
        "source": [
          "\n"
        ]
      }
    }
  },
  "nbformat": 4,
  "nbformat_minor": 1
}
